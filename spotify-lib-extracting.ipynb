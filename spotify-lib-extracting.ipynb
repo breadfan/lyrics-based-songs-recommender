{
 "metadata": {
  "kernelspec": {
   "language": "python",
   "display_name": "Python 3",
   "name": "python3"
  },
  "language_info": {
   "pygments_lexer": "ipython3",
   "nbconvert_exporter": "python",
   "version": "3.6.4",
   "file_extension": ".py",
   "codemirror_mode": {
    "name": "ipython",
    "version": 3
   },
   "name": "python",
   "mimetype": "text/x-python"
  }
 },
 "nbformat_minor": 4,
 "nbformat": 4,
 "cells": [
  {
   "cell_type": "code",
   "source": [
    "!pip install -q spotipy"
   ],
   "metadata": {
    "execution": {
     "iopub.status.busy": "2022-06-28T20:26:20.315959Z",
     "iopub.execute_input": "2022-06-28T20:26:20.316360Z",
     "iopub.status.idle": "2022-06-28T20:26:34.352632Z",
     "shell.execute_reply.started": "2022-06-28T20:26:20.316326Z",
     "shell.execute_reply": "2022-06-28T20:26:34.351016Z"
    },
    "trusted": true,
    "pycharm": {
     "name": "#%%\n"
    }
   },
   "execution_count": null,
   "outputs": []
  },
  {
   "cell_type": "code",
   "source": [
    "import spotipy\n",
    "from spotipy.oauth2 import SpotifyClientCredentials, SpotifyOAuth"
   ],
   "metadata": {
    "_uuid": "8f2839f25d086af736a60e9eeb907d3b93b6e0e5",
    "_cell_guid": "b1076dfc-b9ad-4769-8c92-a6c4dae69d19",
    "execution": {
     "iopub.status.busy": "2022-06-28T20:37:18.720021Z",
     "iopub.execute_input": "2022-06-28T20:37:18.720457Z",
     "iopub.status.idle": "2022-06-28T20:37:18.725806Z",
     "shell.execute_reply.started": "2022-06-28T20:37:18.720427Z",
     "shell.execute_reply": "2022-06-28T20:37:18.724692Z"
    },
    "trusted": true,
    "pycharm": {
     "name": "#%%\n"
    }
   },
   "execution_count": null,
   "outputs": []
  },
  {
   "cell_type": "code",
   "source": [
    "cid = '-------'\n",
    "secret = '------'"
   ],
   "metadata": {
    "execution": {
     "iopub.status.busy": "2022-06-28T20:37:18.859233Z",
     "iopub.execute_input": "2022-06-28T20:37:18.859650Z",
     "iopub.status.idle": "2022-06-28T20:37:18.865024Z",
     "shell.execute_reply.started": "2022-06-28T20:37:18.859617Z",
     "shell.execute_reply": "2022-06-28T20:37:18.863757Z"
    },
    "trusted": true,
    "pycharm": {
     "name": "#%%\n"
    }
   },
   "execution_count": null,
   "outputs": []
  },
  {
   "cell_type": "code",
   "source": [
    "playlists = sp.user_playlists('thelowering')\n",
    "while playlists:\n",
    "    for i, playlist in enumerate(playlists['items']):\n",
    "        print(\"%4d %s %s\" % (i + 1 + playlists['offset'], playlist['uri'],  playlist['name']))\n",
    "    if playlists['next']:\n",
    "        playlists = sp.next(playlists)\n",
    "    else:\n",
    "        playlists = None"
   ],
   "metadata": {
    "execution": {
     "iopub.status.busy": "2022-06-28T21:08:26.649965Z",
     "iopub.execute_input": "2022-06-28T21:08:26.650471Z",
     "iopub.status.idle": "2022-06-28T21:08:26.728939Z",
     "shell.execute_reply.started": "2022-06-28T21:08:26.650429Z",
     "shell.execute_reply": "2022-06-28T21:08:26.727367Z"
    },
    "trusted": true,
    "pycharm": {
     "name": "#%%\n"
    }
   },
   "execution_count": null,
   "outputs": []
  },
  {
   "cell_type": "code",
   "source": [
    "#auth\n",
    "client_credentials_manager = SpotifyClientCredentials(client_id=cid, client_secret=secret)\n",
    "sp = spotipy.Spotify(client_credentials_manager = client_credentials_manager)"
   ],
   "metadata": {
    "execution": {
     "iopub.status.busy": "2022-06-28T20:37:19.034882Z",
     "iopub.execute_input": "2022-06-28T20:37:19.035310Z",
     "iopub.status.idle": "2022-06-28T20:37:19.043426Z",
     "shell.execute_reply.started": "2022-06-28T20:37:19.035276Z",
     "shell.execute_reply": "2022-06-28T20:37:19.042121Z"
    },
    "trusted": true,
    "pycharm": {
     "name": "#%%\n"
    }
   },
   "execution_count": null,
   "outputs": []
  },
  {
   "cell_type": "code",
   "source": [
    "playlist_link = \"https://open.spotify.com/playlist/6t1fydb2qLBEvCNcmNx9pc?si=6e2c34f4c85447e6\"\n",
    "playlist_URI = playlist_link.split(\"/\")[-1].split(\"?\")[0]\n",
    "track_uris = [x[\"track\"][\"uri\"] for x in sp.playlist_tracks(playlist_URI)[\"items\"]]"
   ],
   "metadata": {
    "execution": {
     "iopub.status.busy": "2022-06-28T21:05:40.298620Z",
     "iopub.execute_input": "2022-06-28T21:05:40.298906Z",
     "iopub.status.idle": "2022-06-28T21:05:40.434786Z",
     "shell.execute_reply.started": "2022-06-28T21:05:40.298878Z",
     "shell.execute_reply": "2022-06-28T21:05:40.433409Z"
    },
    "trusted": true,
    "pycharm": {
     "name": "#%%\n"
    }
   },
   "execution_count": null,
   "outputs": []
  },
  {
   "cell_type": "code",
   "source": [
    "len(track_uris)"
   ],
   "metadata": {
    "execution": {
     "iopub.status.busy": "2022-06-28T21:05:58.050361Z",
     "iopub.execute_input": "2022-06-28T21:05:58.050754Z",
     "iopub.status.idle": "2022-06-28T21:05:58.057086Z",
     "shell.execute_reply.started": "2022-06-28T21:05:58.050720Z",
     "shell.execute_reply": "2022-06-28T21:05:58.056001Z"
    },
    "trusted": true,
    "pycharm": {
     "name": "#%%\n"
    }
   },
   "execution_count": null,
   "outputs": []
  },
  {
   "cell_type": "code",
   "source": [
    "import pandas as pd"
   ],
   "metadata": {
    "execution": {
     "iopub.status.busy": "2022-06-28T21:00:14.131425Z",
     "iopub.execute_input": "2022-06-28T21:00:14.132156Z",
     "iopub.status.idle": "2022-06-28T21:00:14.136533Z",
     "shell.execute_reply.started": "2022-06-28T21:00:14.132118Z",
     "shell.execute_reply": "2022-06-28T21:00:14.135568Z"
    },
    "trusted": true,
    "pycharm": {
     "name": "#%%\n"
    }
   },
   "execution_count": null,
   "outputs": []
  },
  {
   "cell_type": "code",
   "source": [
    "def get_playlist_tracks(username,playlist_uri):\n",
    "    results = sp.user_playlist_tracks(username,playlist_uri)\n",
    "    tracks = results['items']\n",
    "    while results['next']:\n",
    "        results = sp.next(results)\n",
    "        tracks.extend(results['items'])\n",
    "    return tracks"
   ],
   "metadata": {
    "execution": {
     "iopub.status.busy": "2022-06-28T21:09:32.684384Z",
     "iopub.execute_input": "2022-06-28T21:09:32.684849Z",
     "iopub.status.idle": "2022-06-28T21:09:32.691743Z",
     "shell.execute_reply.started": "2022-06-28T21:09:32.684811Z",
     "shell.execute_reply": "2022-06-28T21:09:32.690537Z"
    },
    "trusted": true,
    "pycharm": {
     "name": "#%%\n"
    }
   },
   "execution_count": null,
   "outputs": []
  },
  {
   "cell_type": "code",
   "source": [
    "my_tracks = get_playlist_tracks('thelowering', '6t1fydb2qLBEvCNcmNx9pc')"
   ],
   "metadata": {
    "execution": {
     "iopub.status.busy": "2022-06-28T21:11:25.560111Z",
     "iopub.execute_input": "2022-06-28T21:11:25.560641Z",
     "iopub.status.idle": "2022-06-28T21:11:34.603794Z",
     "shell.execute_reply.started": "2022-06-28T21:11:25.560603Z",
     "shell.execute_reply": "2022-06-28T21:11:34.601668Z"
    },
    "collapsed": true,
    "jupyter": {
     "outputs_hidden": true
    },
    "trusted": true,
    "pycharm": {
     "name": "#%%\n"
    }
   },
   "execution_count": null,
   "outputs": []
  },
  {
   "cell_type": "code",
   "source": [
    "df = pd.DataFrame(columns=['track_uri', 'track_name', 'track_pop', 'artist_uri', 'artist_name', 'artist_pop', 'artist_genres', 'album'])\n",
    "for track in my_tracks: #sp.playlist_tracks(playlist_URI)[\"items\"]:\n",
    "    #URI\n",
    "    track_uri = track[\"track\"][\"uri\"]\n",
    "    \n",
    "    #Track name\n",
    "    track_name = track[\"track\"][\"name\"]\n",
    "    \n",
    "    #Main Artist\n",
    "    artist_uri = track[\"track\"][\"artists\"][0][\"uri\"]\n",
    "    artist_info = sp.artist(artist_uri)\n",
    "    \n",
    "    #Name, popularity, genre\n",
    "    artist_name = track[\"track\"][\"artists\"][0][\"name\"]\n",
    "    artist_pop = artist_info[\"popularity\"]\n",
    "    if len(artist_info[\"genres\"]) == 0:\n",
    "        artist_genres = 'none'\n",
    "    else:\n",
    "        artist_genres = artist_info[\"genres\"][0]\n",
    "    #Album\n",
    "    album = track[\"track\"][\"album\"][\"name\"]\n",
    "    \n",
    "    #Popularity of the track\n",
    "    track_pop = track[\"track\"][\"popularity\"]\n",
    "    row = {'track_uri':track_uri[14:], 'track_name':track_name, 'track_pop':track_pop, 'artist_uri':artist_uri[15:], \n",
    "           'artist_name':artist_name, 'artist_pop':artist_pop, 'artist_genres':artist_genres, 'album':album}\n",
    "    df = df.append(row, ignore_index=True)"
   ],
   "metadata": {
    "execution": {
     "iopub.status.busy": "2022-06-28T21:12:03.916880Z",
     "iopub.execute_input": "2022-06-28T21:12:03.918149Z",
     "iopub.status.idle": "2022-06-28T21:13:19.817309Z",
     "shell.execute_reply.started": "2022-06-28T21:12:03.918105Z",
     "shell.execute_reply": "2022-06-28T21:13:19.816146Z"
    },
    "trusted": true,
    "pycharm": {
     "name": "#%%\n"
    }
   },
   "execution_count": null,
   "outputs": []
  },
  {
   "cell_type": "code",
   "source": [
    "df"
   ],
   "metadata": {
    "execution": {
     "iopub.status.busy": "2022-06-28T21:13:19.819226Z",
     "iopub.execute_input": "2022-06-28T21:13:19.819546Z",
     "iopub.status.idle": "2022-06-28T21:13:19.840579Z",
     "shell.execute_reply.started": "2022-06-28T21:13:19.819518Z",
     "shell.execute_reply": "2022-06-28T21:13:19.839225Z"
    },
    "trusted": true,
    "pycharm": {
     "name": "#%%\n"
    }
   },
   "execution_count": null,
   "outputs": []
  },
  {
   "cell_type": "code",
   "source": [
    "import pickle\n",
    "with open('my_songs_df.pickle', 'wb') as my_songs_df:\n",
    "    pickle.dump(df, my_songs_df, protocol=pickle.HIGHEST_PROTOCOL)"
   ],
   "metadata": {
    "execution": {
     "iopub.status.busy": "2022-06-28T21:15:33.275438Z",
     "iopub.execute_input": "2022-06-28T21:15:33.276425Z",
     "iopub.status.idle": "2022-06-28T21:15:33.284473Z",
     "shell.execute_reply.started": "2022-06-28T21:15:33.276385Z",
     "shell.execute_reply": "2022-06-28T21:15:33.283107Z"
    },
    "trusted": true,
    "pycharm": {
     "name": "#%%\n"
    }
   },
   "execution_count": null,
   "outputs": []
  },
  {
   "cell_type": "code",
   "source": [],
   "metadata": {
    "pycharm": {
     "name": "#%%\n"
    }
   },
   "execution_count": null,
   "outputs": []
  }
 ]
}