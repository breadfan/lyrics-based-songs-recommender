{
 "metadata": {
  "kernelspec": {
   "language": "python",
   "display_name": "Python 3",
   "name": "python3"
  },
  "language_info": {
   "pygments_lexer": "ipython3",
   "nbconvert_exporter": "python",
   "version": "3.6.4",
   "file_extension": ".py",
   "codemirror_mode": {
    "name": "ipython",
    "version": 3
   },
   "name": "python",
   "mimetype": "text/x-python"
  }
 },
 "nbformat_minor": 4,
 "nbformat": 4,
 "cells": [
  {
   "cell_type": "markdown",
   "source": [
    "## Load data"
   ],
   "metadata": {
    "pycharm": {
     "name": "#%% md\n"
    }
   }
  },
  {
   "cell_type": "code",
   "source": [
    "from collections import Counter\n",
    "import pandas as pd\n",
    "import numpy as np\n",
    "import os\n",
    "import re\n",
    "\n",
    "#Import all the dependencies\n",
    "from gensim.models.doc2vec import Doc2Vec, TaggedDocument\n",
    "from nltk.tokenize import word_tokenize\n",
    "import nltk\n",
    "from nltk.corpus import stopwords\n",
    "# nltk.download('stopwords')\n",
    "remove_these = set(stopwords.words('english'))"
   ],
   "metadata": {
    "execution": {
     "iopub.status.busy": "2022-06-29T23:29:16.686280Z",
     "iopub.execute_input": "2022-06-29T23:29:16.686635Z",
     "iopub.status.idle": "2022-06-29T23:29:18.174423Z",
     "shell.execute_reply.started": "2022-06-29T23:29:16.686534Z",
     "shell.execute_reply": "2022-06-29T23:29:18.173710Z"
    },
    "trusted": true,
    "pycharm": {
     "name": "#%%\n"
    }
   },
   "execution_count": null,
   "outputs": []
  },
  {
   "cell_type": "code",
   "source": [
    "REMOVE_STOPWORDS = True"
   ],
   "metadata": {
    "execution": {
     "iopub.status.busy": "2022-06-29T23:29:18.176065Z",
     "iopub.execute_input": "2022-06-29T23:29:18.176374Z",
     "iopub.status.idle": "2022-06-29T23:29:18.180655Z",
     "shell.execute_reply.started": "2022-06-29T23:29:18.176335Z",
     "shell.execute_reply": "2022-06-29T23:29:18.179702Z"
    },
    "trusted": true,
    "pycharm": {
     "name": "#%%\n"
    }
   },
   "execution_count": null,
   "outputs": []
  },
  {
   "cell_type": "code",
   "source": [
    "%%time\n",
    "\n",
    "with open('../input/musicxmatch-dataset/mxm_dataset_train.txt','r') as f:\n",
    "    lines = f.readlines()\n",
    "    words = lines[17].replace('%','').split(',')\n",
    "    all_songs_dict = dict()\n",
    "    for i,l in list(enumerate(lines))[18:]:\n",
    "        song_info = l.split(',')\n",
    "        MSDID = song_info[0]\n",
    "        song_bow = [x.split(':') for x in song_info[2:]]\n",
    "        song_dict = {}\n",
    "        for word, word_count in song_bow:\n",
    "            song_dict[int(word)] = int(word_count.replace('\\n',''))\n",
    "        word_lists = [[words[word-1]]*song_dict[word] for word in song_dict.keys()]\n",
    "        song = [word for word_list in word_lists for word in word_list]\n",
    "        if REMOVE_STOPWORDS:\n",
    "            song = [w for w in song if w not in remove_these]\n",
    "        all_songs_dict[str(MSDID)] = ' '.join(song).replace('\\n','')"
   ],
   "metadata": {
    "execution": {
     "iopub.status.busy": "2022-06-29T23:29:18.182167Z",
     "iopub.execute_input": "2022-06-29T23:29:18.182448Z",
     "iopub.status.idle": "2022-06-29T23:29:47.762611Z",
     "shell.execute_reply.started": "2022-06-29T23:29:18.182408Z",
     "shell.execute_reply": "2022-06-29T23:29:47.761040Z"
    },
    "trusted": true,
    "pycharm": {
     "name": "#%%\n"
    }
   },
   "execution_count": null,
   "outputs": []
  },
  {
   "cell_type": "markdown",
   "source": [
    "Data:\n",
    "1. song_info\n",
    "2. all_songs_dict"
   ],
   "metadata": {
    "pycharm": {
     "name": "#%% md\n"
    }
   }
  },
  {
   "cell_type": "code",
   "source": [
    "print(len(all_songs_dict.keys()))\n",
    "song_msd_ids = list(all_songs_dict.keys())"
   ],
   "metadata": {
    "execution": {
     "iopub.status.busy": "2022-06-29T23:29:47.764603Z",
     "iopub.execute_input": "2022-06-29T23:29:47.765322Z",
     "iopub.status.idle": "2022-06-29T23:29:47.777516Z",
     "shell.execute_reply.started": "2022-06-29T23:29:47.765281Z",
     "shell.execute_reply": "2022-06-29T23:29:47.776532Z"
    },
    "trusted": true,
    "pycharm": {
     "name": "#%%\n"
    }
   },
   "execution_count": null,
   "outputs": []
  },
  {
   "cell_type": "code",
   "source": [
    "print(np.random.choice(song_msd_ids))"
   ],
   "metadata": {
    "execution": {
     "iopub.status.busy": "2022-06-29T23:29:47.779146Z",
     "iopub.execute_input": "2022-06-29T23:29:47.779552Z",
     "iopub.status.idle": "2022-06-29T23:29:47.841007Z",
     "shell.execute_reply.started": "2022-06-29T23:29:47.779511Z",
     "shell.execute_reply": "2022-06-29T23:29:47.840154Z"
    },
    "trusted": true,
    "pycharm": {
     "name": "#%%\n"
    }
   },
   "execution_count": null,
   "outputs": []
  },
  {
   "cell_type": "code",
   "source": [
    "%%time\n",
    "\n",
    "all_song_meta_dict = dict()\n",
    "with open('../input/musicxmatch-779k-matches/mxm_779k_matches.txt','r') as f:\n",
    "    lines = f.readlines()\n",
    "    for i in range(18, len(lines)):\n",
    "        line = lines[i].split('<SEP>')\n",
    "        MSDID = line[0]\n",
    "        artist = line[1]\n",
    "        title = line[2]\n",
    "        all_song_meta_dict[str(MSDID)] = {'artist': artist, 'title': title}"
   ],
   "metadata": {
    "execution": {
     "iopub.status.busy": "2022-06-29T23:29:47.842600Z",
     "iopub.execute_input": "2022-06-29T23:29:47.842933Z",
     "iopub.status.idle": "2022-06-29T23:29:50.273092Z",
     "shell.execute_reply.started": "2022-06-29T23:29:47.842892Z",
     "shell.execute_reply": "2022-06-29T23:29:50.272284Z"
    },
    "trusted": true,
    "pycharm": {
     "name": "#%%\n"
    }
   },
   "execution_count": null,
   "outputs": []
  },
  {
   "cell_type": "code",
   "source": [
    "len(all_song_meta_dict.keys())"
   ],
   "metadata": {
    "execution": {
     "iopub.status.busy": "2022-06-29T23:29:50.274440Z",
     "iopub.execute_input": "2022-06-29T23:29:50.274915Z",
     "iopub.status.idle": "2022-06-29T23:29:50.283817Z",
     "shell.execute_reply.started": "2022-06-29T23:29:50.274874Z",
     "shell.execute_reply": "2022-06-29T23:29:50.283089Z"
    },
    "trusted": true,
    "pycharm": {
     "name": "#%%\n"
    }
   },
   "execution_count": null,
   "outputs": []
  },
  {
   "cell_type": "code",
   "source": [
    "# all_artists = sorted(set([all_song_meta_dict[msdId]['artist'].lower() for msdId in all_song_meta_dict]))"
   ],
   "metadata": {
    "execution": {
     "iopub.status.busy": "2022-06-29T23:29:50.284888Z",
     "iopub.execute_input": "2022-06-29T23:29:50.285116Z",
     "iopub.status.idle": "2022-06-29T23:29:50.292624Z",
     "shell.execute_reply.started": "2022-06-29T23:29:50.285082Z",
     "shell.execute_reply": "2022-06-29T23:29:50.291881Z"
    },
    "trusted": true,
    "pycharm": {
     "name": "#%%\n"
    }
   },
   "execution_count": null,
   "outputs": []
  },
  {
   "cell_type": "code",
   "source": [
    "d = {\n",
    "    'MSDID': list(all_songs_dict.keys()),\n",
    "    'cleaned_text': [all_songs_dict[x] for x in all_songs_dict.keys()]\n",
    "    }\n",
    "msdid_df = pd.DataFrame.from_dict(d)\n",
    "print(msdid_df.shape)\n",
    "msdid_df.head()"
   ],
   "metadata": {
    "execution": {
     "iopub.status.busy": "2022-06-29T23:29:50.294142Z",
     "iopub.execute_input": "2022-06-29T23:29:50.294409Z",
     "iopub.status.idle": "2022-06-29T23:29:50.442374Z",
     "shell.execute_reply.started": "2022-06-29T23:29:50.294375Z",
     "shell.execute_reply": "2022-06-29T23:29:50.441672Z"
    },
    "trusted": true,
    "pycharm": {
     "name": "#%%\n"
    }
   },
   "execution_count": null,
   "outputs": []
  },
  {
   "cell_type": "code",
   "source": [
    "d = {\n",
    "    'MSDID': msdid_df['MSDID'],\n",
    "    'artist': [all_song_meta_dict[x]['artist'] for x in msdid_df['MSDID']],\n",
    "    'title': [all_song_meta_dict[x]['title'] for x in msdid_df['MSDID']]\n",
    "    }\n",
    "meta_df = pd.DataFrame.from_dict(d)\n",
    "print(meta_df.shape)\n",
    "meta_df.head()"
   ],
   "metadata": {
    "execution": {
     "iopub.status.busy": "2022-06-29T23:29:50.445686Z",
     "iopub.execute_input": "2022-06-29T23:29:50.445945Z",
     "iopub.status.idle": "2022-06-29T23:29:50.860105Z",
     "shell.execute_reply.started": "2022-06-29T23:29:50.445910Z",
     "shell.execute_reply": "2022-06-29T23:29:50.859397Z"
    },
    "trusted": true,
    "pycharm": {
     "name": "#%%\n"
    }
   },
   "execution_count": null,
   "outputs": []
  },
  {
   "cell_type": "code",
   "source": [
    "full_df_ = pd.merge(msdid_df, meta_df, on='MSDID', how='left')\n",
    "print(full_df_.shape)\n",
    "full_df_.head()"
   ],
   "metadata": {
    "execution": {
     "iopub.status.busy": "2022-06-29T23:29:50.861510Z",
     "iopub.execute_input": "2022-06-29T23:29:50.861913Z",
     "iopub.status.idle": "2022-06-29T23:29:51.040685Z",
     "shell.execute_reply.started": "2022-06-29T23:29:50.861876Z",
     "shell.execute_reply": "2022-06-29T23:29:51.039894Z"
    },
    "trusted": true,
    "pycharm": {
     "name": "#%%\n"
    }
   },
   "execution_count": null,
   "outputs": []
  },
  {
   "cell_type": "code",
   "source": [
    "full_df_.loc[(full_df_.artist == 'Nirvana') & (full_df_.title == 'Dumb')].cleaned_text.values"
   ],
   "metadata": {
    "execution": {
     "iopub.status.busy": "2022-06-29T23:29:51.042095Z",
     "iopub.execute_input": "2022-06-29T23:29:51.042346Z",
     "iopub.status.idle": "2022-06-29T23:29:51.147977Z",
     "shell.execute_reply.started": "2022-06-29T23:29:51.042310Z",
     "shell.execute_reply": "2022-06-29T23:29:51.147277Z"
    },
    "trusted": true,
    "pycharm": {
     "name": "#%%\n"
    }
   },
   "execution_count": null,
   "outputs": []
  },
  {
   "cell_type": "code",
   "source": [
    "my_artists_ = ['Green Day','Blink-182','Sum 41','Rise Against',\n",
    "              'Four Year Strong','Three Days Grace',\n",
    "              'Tame Impala','Snoop Dogg','Thin Lizzy','The Strokes',\n",
    "              'Nirvana','All Time Low', 'Foo Fighters','Lil Wayne',\n",
    "              'Eminem','Tom Petty','Seether', 'Shinedown',\n",
    "              'Red Hot Chili Peppers','The Who', 'The Doors',\n",
    "              'Linkin Park','Arctic Monkeys','The Black Keys',\n",
    "              'Led Zeppelin','The Kinks','Collective Soul',\n",
    "              'Avenged Sevenfold','George Harrison','Eric Clapton',\n",
    "              'The Donnas','System of a Down', 'MxPx',\n",
    "              'Weezer','Rancid','Atmosphere','Santigold',\n",
    "              'Iron Maiden','Fall Out Boy', 'Hank Williams']\n",
    "\n",
    "my_artists = ['The Smashing Pumpkins', 'Bruce Springsteen','Beastie Boys']\n",
    "\n",
    "sampled_artists = list(np.random.choice(full_df_['artist'], size=500, replace=False))\n",
    "# sampled_artists"
   ],
   "metadata": {
    "execution": {
     "iopub.status.busy": "2022-06-29T23:29:51.149055Z",
     "iopub.execute_input": "2022-06-29T23:29:51.149437Z",
     "iopub.status.idle": "2022-06-29T23:29:51.161111Z",
     "shell.execute_reply.started": "2022-06-29T23:29:51.149403Z",
     "shell.execute_reply": "2022-06-29T23:29:51.160350Z"
    },
    "trusted": true,
    "pycharm": {
     "name": "#%%\n"
    }
   },
   "execution_count": null,
   "outputs": []
  },
  {
   "cell_type": "code",
   "source": [
    "# top_artists = full_df_['artist'].value_counts()[:10].reset_index()['index'].values\n",
    "# full_df = full_df_[full_df_['artist'].isin(my_artists)].reset_index(drop=True)\n",
    "# full_df = full_df_[full_df_['artist'].isin(sampled_artists)].reset_index(drop=True)\n",
    "# full_df = full_df_[full_df_['artist'].isin(sampled_artists + my_artists + my_artists_)].reset_index(drop=True)\n",
    "full_df = full_df_.copy()\n",
    "print(full_df.shape)\n",
    "full_df.head()"
   ],
   "metadata": {
    "execution": {
     "iopub.status.busy": "2022-06-29T23:29:51.162400Z",
     "iopub.execute_input": "2022-06-29T23:29:51.163246Z",
     "iopub.status.idle": "2022-06-29T23:29:51.191042Z",
     "shell.execute_reply.started": "2022-06-29T23:29:51.163202Z",
     "shell.execute_reply": "2022-06-29T23:29:51.190358Z"
    },
    "trusted": true,
    "pycharm": {
     "name": "#%%\n"
    }
   },
   "execution_count": null,
   "outputs": []
  },
  {
   "cell_type": "markdown",
   "source": [
    "## Train model and get embeddings"
   ],
   "metadata": {
    "pycharm": {
     "name": "#%% md\n"
    }
   }
  },
  {
   "cell_type": "code",
   "source": [
    "data = full_df['cleaned_text'].tolist()"
   ],
   "metadata": {
    "execution": {
     "iopub.status.busy": "2022-06-29T23:29:51.192369Z",
     "iopub.execute_input": "2022-06-29T23:29:51.192830Z",
     "iopub.status.idle": "2022-06-29T23:29:51.203235Z",
     "shell.execute_reply.started": "2022-06-29T23:29:51.192795Z",
     "shell.execute_reply": "2022-06-29T23:29:51.202509Z"
    },
    "trusted": true,
    "pycharm": {
     "name": "#%%\n"
    }
   },
   "execution_count": null,
   "outputs": []
  },
  {
   "cell_type": "markdown",
   "source": [
    "# Not used"
   ],
   "metadata": {
    "pycharm": {
     "name": "#%% md\n"
    }
   }
  },
  {
   "cell_type": "code",
   "source": [
    "%%time\n",
    "\n",
    "# get training data\n",
    "data = full_df['cleaned_text'].tolist()\n",
    "# test_data = test_df['cleaned_text'].tolist()\n",
    "#train_corpus = [TaggedDocument(words=word_tokenize(dat.lower()), tags=[str(i)]) for i, dat in list(enumerate(data))]\n",
    "# build model\n",
    "# model = Doc2Vec(vector_size=50, min_count=1, epochs=10, dm=0)\n",
    "# model.build_vocab(train_corpus)\n",
    "# # train model\n",
    "# model.train(train_corpus, total_examples=model.corpus_count, epochs=model.epochs)"
   ],
   "metadata": {
    "execution": {
     "iopub.status.busy": "2022-06-29T23:29:51.204959Z",
     "iopub.execute_input": "2022-06-29T23:29:51.205556Z",
     "iopub.status.idle": "2022-06-29T23:29:51.225263Z",
     "shell.execute_reply.started": "2022-06-29T23:29:51.205512Z",
     "shell.execute_reply": "2022-06-29T23:29:51.224532Z"
    },
    "trusted": true,
    "pycharm": {
     "name": "#%%\n"
    }
   },
   "execution_count": null,
   "outputs": []
  },
  {
   "cell_type": "code",
   "source": [
    "#model.save('trained_model_example')"
   ],
   "metadata": {
    "execution": {
     "iopub.status.busy": "2022-06-29T23:29:51.228470Z",
     "iopub.execute_input": "2022-06-29T23:29:51.228725Z",
     "iopub.status.idle": "2022-06-29T23:29:51.232646Z",
     "shell.execute_reply.started": "2022-06-29T23:29:51.228691Z",
     "shell.execute_reply": "2022-06-29T23:29:51.231639Z"
    },
    "trusted": true,
    "pycharm": {
     "name": "#%%\n"
    }
   },
   "execution_count": null,
   "outputs": []
  },
  {
   "cell_type": "code",
   "source": [
    "file = '../input/d2v-model-for-musicxmatch/trained_model_example'\n",
    "model = Doc2Vec.load(file)"
   ],
   "metadata": {
    "execution": {
     "iopub.status.busy": "2022-06-29T23:29:51.235333Z",
     "iopub.execute_input": "2022-06-29T23:29:51.235815Z",
     "iopub.status.idle": "2022-06-29T23:29:51.974445Z",
     "shell.execute_reply.started": "2022-06-29T23:29:51.235787Z",
     "shell.execute_reply": "2022-06-29T23:29:51.973746Z"
    },
    "trusted": true,
    "pycharm": {
     "name": "#%%\n"
    }
   },
   "execution_count": null,
   "outputs": []
  },
  {
   "cell_type": "code",
   "source": [
    "emb_df = pd.DataFrame([model.dv[f'{i}'] for i in range(len(full_df))])\n",
    "fe_df = full_df.copy()\n",
    "for c in emb_df.columns:\n",
    "    fe_df[c] = emb_df[c]\n",
    "# fe_df[fe_df['artist'].isin(my_artists)].groupby('artist').mean().reset_index()"
   ],
   "metadata": {
    "execution": {
     "iopub.status.busy": "2022-06-29T23:29:51.978645Z",
     "iopub.execute_input": "2022-06-29T23:29:51.979100Z",
     "iopub.status.idle": "2022-06-29T23:29:59.416164Z",
     "shell.execute_reply.started": "2022-06-29T23:29:51.979059Z",
     "shell.execute_reply": "2022-06-29T23:29:59.415443Z"
    },
    "trusted": true,
    "pycharm": {
     "name": "#%%\n"
    }
   },
   "execution_count": null,
   "outputs": []
  },
  {
   "cell_type": "code",
   "source": [
    "fe_df.head()"
   ],
   "metadata": {
    "execution": {
     "iopub.status.busy": "2022-06-29T23:29:59.417294Z",
     "iopub.execute_input": "2022-06-29T23:29:59.417599Z",
     "iopub.status.idle": "2022-06-29T23:29:59.446392Z",
     "shell.execute_reply.started": "2022-06-29T23:29:59.417553Z",
     "shell.execute_reply": "2022-06-29T23:29:59.445557Z"
    },
    "trusted": true,
    "pycharm": {
     "name": "#%%\n"
    }
   },
   "execution_count": null,
   "outputs": []
  },
  {
   "cell_type": "markdown",
   "source": [
    "## Visualization with UMAP"
   ],
   "metadata": {
    "pycharm": {
     "name": "#%% md\n"
    }
   }
  },
  {
   "cell_type": "code",
   "source": [
    "from sklearn.preprocessing import StandardScaler\n",
    "#from sklearn.manifold import TSNE\n",
    "from sklearn.pipeline import Pipeline\n",
    "import umap"
   ],
   "metadata": {
    "execution": {
     "iopub.status.busy": "2022-06-29T23:29:59.447786Z",
     "iopub.execute_input": "2022-06-29T23:29:59.448131Z",
     "iopub.status.idle": "2022-06-29T23:30:19.834468Z",
     "shell.execute_reply.started": "2022-06-29T23:29:59.448072Z",
     "shell.execute_reply": "2022-06-29T23:30:19.833745Z"
    },
    "trusted": true,
    "pycharm": {
     "name": "#%%\n"
    }
   },
   "execution_count": null,
   "outputs": []
  },
  {
   "cell_type": "code",
   "source": [
    "# %%time\n",
    "# n = 3\n",
    "\n",
    "# pipeline = Pipeline([('scaling', StandardScaler()), ('umap', umap.UMAP(n_components=n, random_state=42))])\n",
    "# song_embedding = pipeline.fit_transform(emb_df)\n",
    "# # tsne = TSNE(n_components=n, perplexity=30, random_state=42)\n",
    "# # song_embedding = tsne.fit_transform(song_df)\n",
    "# umap_df = pd.DataFrame(data = song_embedding, columns = list(range(n)))\n",
    "# umap_df['title'] = full_df['title']\n",
    "# umap_df['artist'] = full_df['artist']"
   ],
   "metadata": {
    "execution": {
     "iopub.status.busy": "2022-06-29T23:30:19.835639Z",
     "iopub.execute_input": "2022-06-29T23:30:19.835875Z",
     "iopub.status.idle": "2022-06-29T23:30:19.845412Z",
     "shell.execute_reply.started": "2022-06-29T23:30:19.835842Z",
     "shell.execute_reply": "2022-06-29T23:30:19.842753Z"
    },
    "trusted": true,
    "pycharm": {
     "name": "#%%\n"
    }
   },
   "execution_count": null,
   "outputs": []
  },
  {
   "cell_type": "code",
   "source": [
    "#umap_df.to_csv('umap_3_components.csv', index=False)"
   ],
   "metadata": {
    "execution": {
     "iopub.status.busy": "2022-06-29T23:30:19.849407Z",
     "iopub.execute_input": "2022-06-29T23:30:19.849620Z",
     "iopub.status.idle": "2022-06-29T23:30:19.859052Z",
     "shell.execute_reply.started": "2022-06-29T23:30:19.849595Z",
     "shell.execute_reply": "2022-06-29T23:30:19.858375Z"
    },
    "trusted": true,
    "pycharm": {
     "name": "#%%\n"
    }
   },
   "execution_count": null,
   "outputs": []
  },
  {
   "cell_type": "code",
   "source": [
    "umap_df = pd.read_csv('../input/d2v-model-for-musicxmatch/umap_3_components.csv')\n",
    "umap_df"
   ],
   "metadata": {
    "execution": {
     "iopub.status.busy": "2022-06-29T23:30:19.861116Z",
     "iopub.execute_input": "2022-06-29T23:30:19.862114Z",
     "iopub.status.idle": "2022-06-29T23:30:20.333979Z",
     "shell.execute_reply.started": "2022-06-29T23:30:19.862071Z",
     "shell.execute_reply": "2022-06-29T23:30:20.333283Z"
    },
    "trusted": true,
    "pycharm": {
     "name": "#%%\n"
    }
   },
   "execution_count": null,
   "outputs": []
  },
  {
   "cell_type": "code",
   "source": [
    "# song_df = ?"
   ],
   "metadata": {
    "execution": {
     "iopub.status.busy": "2022-06-29T23:30:20.335354Z",
     "iopub.execute_input": "2022-06-29T23:30:20.335643Z",
     "iopub.status.idle": "2022-06-29T23:30:20.338961Z",
     "shell.execute_reply.started": "2022-06-29T23:30:20.335603Z",
     "shell.execute_reply": "2022-06-29T23:30:20.338266Z"
    },
    "trusted": true,
    "pycharm": {
     "name": "#%%\n"
    }
   },
   "execution_count": null,
   "outputs": []
  },
  {
   "cell_type": "code",
   "source": [
    "my_artists = ['Blink-182',\n",
    "              'Tame Impala','Snoop Dogg','The Strokes',\n",
    "              'Eminem',\n",
    "              'Red Hot Chili Peppers','The Who',\n",
    "              'Linkin Park',\n",
    "              'Avenged Sevenfold','Eric Clapton']\n",
    "# my_artists = tsne_df['artist'].sample(100)\n",
    "# my_artists = ['Avenged Sevenfold', 'Eminem','The Strokes']\n",
    "# my_artists = ['Avenged Sevenfold', 'Bob Dylan', 'Hank Williams','Dolly Parton']\n",
    "my_artists"
   ],
   "metadata": {
    "execution": {
     "iopub.status.busy": "2022-06-29T23:30:20.340485Z",
     "iopub.execute_input": "2022-06-29T23:30:20.341010Z",
     "iopub.status.idle": "2022-06-29T23:30:20.351740Z",
     "shell.execute_reply.started": "2022-06-29T23:30:20.340968Z",
     "shell.execute_reply": "2022-06-29T23:30:20.350525Z"
    },
    "trusted": true,
    "pycharm": {
     "name": "#%%\n"
    }
   },
   "execution_count": null,
   "outputs": []
  },
  {
   "cell_type": "code",
   "source": [
    "umap_df.artist.value_counts()[:30]"
   ],
   "metadata": {
    "execution": {
     "iopub.status.busy": "2022-06-29T23:30:20.353666Z",
     "iopub.execute_input": "2022-06-29T23:30:20.354691Z",
     "iopub.status.idle": "2022-06-29T23:30:20.400870Z",
     "shell.execute_reply.started": "2022-06-29T23:30:20.354651Z",
     "shell.execute_reply": "2022-06-29T23:30:20.400165Z"
    },
    "trusted": true,
    "pycharm": {
     "name": "#%%\n"
    }
   },
   "execution_count": null,
   "outputs": []
  },
  {
   "cell_type": "code",
   "source": [
    "plot_df = fe_df[fe_df['artist'].isin(my_artists)].reset_index(drop=True)"
   ],
   "metadata": {
    "execution": {
     "iopub.status.busy": "2022-06-29T23:30:20.404932Z",
     "iopub.execute_input": "2022-06-29T23:30:20.405145Z",
     "iopub.status.idle": "2022-06-29T23:30:20.476157Z",
     "shell.execute_reply.started": "2022-06-29T23:30:20.405119Z",
     "shell.execute_reply": "2022-06-29T23:30:20.475416Z"
    },
    "trusted": true,
    "pycharm": {
     "name": "#%%\n"
    }
   },
   "execution_count": null,
   "outputs": []
  },
  {
   "cell_type": "code",
   "source": [
    "emb_df_ = emb_df[fe_df['artist'].isin(my_artists)]"
   ],
   "metadata": {
    "execution": {
     "iopub.status.busy": "2022-06-29T23:30:20.477471Z",
     "iopub.execute_input": "2022-06-29T23:30:20.477759Z",
     "iopub.status.idle": "2022-06-29T23:30:20.511708Z",
     "shell.execute_reply.started": "2022-06-29T23:30:20.477724Z",
     "shell.execute_reply": "2022-06-29T23:30:20.510764Z"
    },
    "trusted": true,
    "pycharm": {
     "name": "#%%\n"
    }
   },
   "execution_count": null,
   "outputs": []
  },
  {
   "cell_type": "code",
   "source": [
    "print(umap_df.shape)\n",
    "umap_df.head()"
   ],
   "metadata": {
    "execution": {
     "iopub.status.busy": "2022-06-29T23:30:20.513213Z",
     "iopub.execute_input": "2022-06-29T23:30:20.513769Z",
     "iopub.status.idle": "2022-06-29T23:30:20.529472Z",
     "shell.execute_reply.started": "2022-06-29T23:30:20.513731Z",
     "shell.execute_reply": "2022-06-29T23:30:20.528764Z"
    },
    "trusted": true,
    "pycharm": {
     "name": "#%%\n"
    }
   },
   "execution_count": null,
   "outputs": []
  },
  {
   "cell_type": "code",
   "source": [
    "# tsne_df = tsne_df.groupby('artist').mean().reset_index()"
   ],
   "metadata": {
    "execution": {
     "iopub.status.busy": "2022-06-29T23:30:20.530640Z",
     "iopub.execute_input": "2022-06-29T23:30:20.531313Z",
     "iopub.status.idle": "2022-06-29T23:30:20.537390Z",
     "shell.execute_reply.started": "2022-06-29T23:30:20.531279Z",
     "shell.execute_reply": "2022-06-29T23:30:20.536234Z"
    },
    "trusted": true,
    "pycharm": {
     "name": "#%%\n"
    }
   },
   "execution_count": null,
   "outputs": []
  },
  {
   "cell_type": "code",
   "source": [
    "umap_df_ = umap_df[fe_df['artist'].isin(my_artists)].reset_index(drop=True)\n",
    "umap_df_['title'] = plot_df['title']\n",
    "umap_df_['artist'] = plot_df['artist']\n",
    "umap_df_.columns = ['umap dimension 0','umap dimension 1','umap dimension 2','title','artist']\n",
    "print(umap_df_.shape)\n",
    "umap_df_.head()"
   ],
   "metadata": {
    "execution": {
     "iopub.status.busy": "2022-06-29T23:30:20.539643Z",
     "iopub.execute_input": "2022-06-29T23:30:20.540762Z",
     "iopub.status.idle": "2022-06-29T23:30:20.588035Z",
     "shell.execute_reply.started": "2022-06-29T23:30:20.540717Z",
     "shell.execute_reply": "2022-06-29T23:30:20.587378Z"
    },
    "trusted": true,
    "pycharm": {
     "name": "#%%\n"
    }
   },
   "execution_count": null,
   "outputs": []
  },
  {
   "cell_type": "code",
   "source": [
    "umap_df_"
   ],
   "metadata": {
    "execution": {
     "iopub.status.busy": "2022-06-29T23:30:20.589152Z",
     "iopub.execute_input": "2022-06-29T23:30:20.589483Z",
     "iopub.status.idle": "2022-06-29T23:30:20.605507Z",
     "shell.execute_reply.started": "2022-06-29T23:30:20.589444Z",
     "shell.execute_reply": "2022-06-29T23:30:20.604413Z"
    },
    "trusted": true,
    "pycharm": {
     "name": "#%%\n"
    }
   },
   "execution_count": null,
   "outputs": []
  },
  {
   "cell_type": "code",
   "source": [
    "import plotly.express as px\n",
    "\n",
    "for x in [('umap dimension 0','umap dimension 1'),\n",
    "          ('umap dimension 0','umap dimension 2'),\n",
    "          ('umap dimension 1','umap dimension 2')]:\n",
    "    fig = px.scatter(umap_df_, \n",
    "                     x=x[0],\n",
    "                     y=x[1],\n",
    "                     hover_data=['artist','title'],\n",
    "                     color='artist',\n",
    "                     opacity=.8,\n",
    "                     template='simple_white')\\\n",
    "            .update_traces(marker=dict(size=15))\\\n",
    "            .update_layout(\n",
    "                title={\n",
    "                    'text': \"Song Lyric Embeddings\",\n",
    "                    'y':0.95,\n",
    "                    'x':0.19,\n",
    "                    'xanchor': 'center',\n",
    "                    'yanchor': 'top'})\n",
    "    fig.show()"
   ],
   "metadata": {
    "execution": {
     "iopub.status.busy": "2022-06-29T23:30:20.608872Z",
     "iopub.execute_input": "2022-06-29T23:30:20.609075Z",
     "iopub.status.idle": "2022-06-29T23:30:23.957055Z",
     "shell.execute_reply.started": "2022-06-29T23:30:20.609051Z",
     "shell.execute_reply": "2022-06-29T23:30:23.956267Z"
    },
    "trusted": true,
    "pycharm": {
     "name": "#%%\n"
    }
   },
   "execution_count": null,
   "outputs": []
  },
  {
   "cell_type": "code",
   "source": [
    "for x in [('umap dimension 0','umap dimension 1','umap dimension 2')]:   \n",
    "    fig = px.scatter_3d(umap_df_, \n",
    "                     x=x[0],\n",
    "                     y=x[1],\n",
    "                     z=x[2],\n",
    "                     hover_data=['artist', 'title'],\n",
    "                     color='artist',\n",
    "                     template='simple_white')\n",
    "    fig.show()"
   ],
   "metadata": {
    "execution": {
     "iopub.status.busy": "2022-06-29T23:30:23.958251Z",
     "iopub.execute_input": "2022-06-29T23:30:23.960659Z",
     "iopub.status.idle": "2022-06-29T23:30:24.146450Z",
     "shell.execute_reply.started": "2022-06-29T23:30:23.960617Z",
     "shell.execute_reply": "2022-06-29T23:30:24.145808Z"
    },
    "trusted": true,
    "pycharm": {
     "name": "#%%\n"
    }
   },
   "execution_count": null,
   "outputs": []
  },
  {
   "cell_type": "markdown",
   "source": [
    "## BERT approach"
   ],
   "metadata": {
    "pycharm": {
     "name": "#%% md\n"
    }
   }
  },
  {
   "cell_type": "code",
   "source": [
    "from tqdm import tqdm\n",
    "from transformers import DistilBertModel, DistilBertTokenizer\n",
    "import torch\n",
    "from torch.utils.data import TensorDataset, DataLoader"
   ],
   "metadata": {
    "execution": {
     "iopub.status.busy": "2022-06-29T23:30:24.147904Z",
     "iopub.execute_input": "2022-06-29T23:30:24.148359Z",
     "iopub.status.idle": "2022-06-29T23:30:26.056261Z",
     "shell.execute_reply.started": "2022-06-29T23:30:24.148320Z",
     "shell.execute_reply": "2022-06-29T23:30:26.055542Z"
    },
    "trusted": true,
    "pycharm": {
     "name": "#%%\n"
    }
   },
   "execution_count": null,
   "outputs": []
  },
  {
   "cell_type": "code",
   "source": [
    "from torch.utils.data import DataLoader, Dataset\n",
    "class DATA(Dataset):\n",
    "    \n",
    "    def __init__(self, df, max_len):\n",
    "        super().__init__()\n",
    "        self.df = df\n",
    "        self.max_len = max_len\n",
    "        self.tokenizer = DistilBertTokenizer.from_pretrained('distilbert-base-uncased', do_lower_case=True)\n",
    "\n",
    "    def __getitem__(self, index):\n",
    "        row = self.df.iloc[index]\n",
    "        \n",
    "        inputs = self.tokenizer.encode_plus(\n",
    "            row,\n",
    "            None,\n",
    "            add_special_tokens=True,\n",
    "            max_length=self.max_len,\n",
    "            padding=\"max_length\",\n",
    "            return_token_type_ids=True,\n",
    "            truncation=True\n",
    "        )\n",
    "        ids = torch.LongTensor(inputs['input_ids'])\n",
    "        mask = torch.LongTensor(inputs['attention_mask'])\n",
    "\n",
    "        return ids, mask\n",
    "\n",
    "    def __len__(self):\n",
    "        return self.df.shape[0]"
   ],
   "metadata": {
    "execution": {
     "iopub.status.busy": "2022-06-29T23:30:26.057468Z",
     "iopub.execute_input": "2022-06-29T23:30:26.057741Z",
     "iopub.status.idle": "2022-06-29T23:30:26.071038Z",
     "shell.execute_reply.started": "2022-06-29T23:30:26.057706Z",
     "shell.execute_reply": "2022-06-29T23:30:26.070152Z"
    },
    "trusted": true,
    "pycharm": {
     "name": "#%%\n"
    }
   },
   "execution_count": null,
   "outputs": []
  },
  {
   "cell_type": "code",
   "source": [
    "types = [type(full_df.cleaned_text.iloc[i]) for i in range(full_df.shape[0])] # every row is a string\n",
    "all([t == str for t in types]) "
   ],
   "metadata": {
    "execution": {
     "iopub.status.busy": "2022-06-29T23:30:26.072386Z",
     "iopub.execute_input": "2022-06-29T23:30:26.072710Z",
     "iopub.status.idle": "2022-06-29T23:30:28.955391Z",
     "shell.execute_reply.started": "2022-06-29T23:30:26.072668Z",
     "shell.execute_reply": "2022-06-29T23:30:28.953607Z"
    },
    "trusted": true,
    "pycharm": {
     "name": "#%%\n"
    }
   },
   "execution_count": null,
   "outputs": []
  },
  {
   "cell_type": "code",
   "source": [
    "train_df = DATA(full_df.cleaned_text.apply(str), 50)\n",
    "train_df[0]"
   ],
   "metadata": {
    "execution": {
     "iopub.status.busy": "2022-06-29T23:30:28.956668Z",
     "iopub.execute_input": "2022-06-29T23:30:28.956943Z",
     "iopub.status.idle": "2022-06-29T23:30:33.448944Z",
     "shell.execute_reply.started": "2022-06-29T23:30:28.956903Z",
     "shell.execute_reply": "2022-06-29T23:30:33.448127Z"
    },
    "trusted": true,
    "pycharm": {
     "name": "#%%\n"
    }
   },
   "execution_count": null,
   "outputs": []
  },
  {
   "cell_type": "code",
   "source": [
    "if torch.cuda.is_available():  # checking availability of the GPU\n",
    "    device = torch.device('cuda')\n",
    "else:\n",
    "    device = torch.device('cpu')\n",
    "device"
   ],
   "metadata": {
    "execution": {
     "iopub.status.busy": "2022-06-29T23:30:33.450437Z",
     "iopub.execute_input": "2022-06-29T23:30:33.450706Z",
     "iopub.status.idle": "2022-06-29T23:30:33.512510Z",
     "shell.execute_reply.started": "2022-06-29T23:30:33.450671Z",
     "shell.execute_reply": "2022-06-29T23:30:33.511634Z"
    },
    "trusted": true,
    "pycharm": {
     "name": "#%%\n"
    }
   },
   "execution_count": null,
   "outputs": []
  },
  {
   "cell_type": "code",
   "source": [
    "import sys\n",
    "\n",
    "def convert_if_not_tensor(x, dtype):\n",
    "        if isinstance(x, torch.Tensor):\n",
    "            return x.to(device, dtype=dtype)\n",
    "        else:\n",
    "            return torch.tensor(x, dtype=dtype, device=device)\n",
    "\n",
    "def read_data(data):\n",
    "    return tuple(d.cuda() for d in data)\n",
    "def validate(val_loader):\n",
    "    tbar = tqdm(val_loader, file=sys.stdout)\n",
    "    embs = []\n",
    "    model =  DistilBertModel.from_pretrained('distilbert-base-uncased')\n",
    "    model.cuda()\n",
    "    model.eval()\n",
    "    with torch.no_grad():\n",
    "        for idx, data in enumerate(tbar):\n",
    "            ids = convert_if_not_tensor(data[0], dtype=torch.long)\n",
    "            mask = convert_if_not_tensor(data[1], dtype=torch.long)\n",
    "            inputs = read_data(data)\n",
    "\n",
    "            preds = model(inputs[0], inputs[1])[0]\n",
    "            preds = preds[:, 0, :]\n",
    "            embs.append(preds.detach().cpu().numpy())\n",
    "    del preds, inputs\n",
    "    torch.cuda.empty_cache()\n",
    "    return np.concatenate(embs)"
   ],
   "metadata": {
    "execution": {
     "iopub.status.busy": "2022-06-29T23:30:33.514117Z",
     "iopub.execute_input": "2022-06-29T23:30:33.514371Z",
     "iopub.status.idle": "2022-06-29T23:30:33.523784Z",
     "shell.execute_reply.started": "2022-06-29T23:30:33.514337Z",
     "shell.execute_reply": "2022-06-29T23:30:33.522794Z"
    },
    "trusted": true,
    "pycharm": {
     "name": "#%%\n"
    }
   },
   "execution_count": null,
   "outputs": []
  },
  {
   "cell_type": "code",
   "source": [
    "BS = 16\n",
    "NW = 2\n",
    "data_loader = DataLoader(train_df, batch_size=BS, shuffle=False, num_workers=NW,\n",
    "                          pin_memory=False, drop_last=False)"
   ],
   "metadata": {
    "execution": {
     "iopub.status.busy": "2022-06-29T23:30:33.525295Z",
     "iopub.execute_input": "2022-06-29T23:30:33.525738Z",
     "iopub.status.idle": "2022-06-29T23:30:33.534411Z",
     "shell.execute_reply.started": "2022-06-29T23:30:33.525700Z",
     "shell.execute_reply": "2022-06-29T23:30:33.533762Z"
    },
    "trusted": true,
    "pycharm": {
     "name": "#%%\n"
    }
   },
   "execution_count": null,
   "outputs": []
  },
  {
   "cell_type": "code",
   "source": [
    "embs_ = validate(data_loader)"
   ],
   "metadata": {
    "execution": {
     "iopub.status.busy": "2022-06-29T23:30:33.535866Z",
     "iopub.execute_input": "2022-06-29T23:30:33.536323Z",
     "iopub.status.idle": "2022-06-29T23:43:43.840308Z",
     "shell.execute_reply.started": "2022-06-29T23:30:33.536285Z",
     "shell.execute_reply": "2022-06-29T23:43:43.839434Z"
    },
    "trusted": true,
    "pycharm": {
     "name": "#%%\n"
    }
   },
   "execution_count": null,
   "outputs": []
  },
  {
   "cell_type": "code",
   "source": [
    "import pickle\n",
    "with open('embeddings_distilbert.pickle', 'wb') as file:\n",
    "    pickle.dump(embs_, file, protocol=pickle.HIGHEST_PROTOCOL)"
   ],
   "metadata": {
    "execution": {
     "iopub.status.busy": "2022-06-29T23:45:27.496012Z",
     "iopub.execute_input": "2022-06-29T23:45:27.496271Z",
     "iopub.status.idle": "2022-06-29T23:45:30.741670Z",
     "shell.execute_reply.started": "2022-06-29T23:45:27.496239Z",
     "shell.execute_reply": "2022-06-29T23:45:30.740777Z"
    },
    "trusted": true,
    "pycharm": {
     "name": "#%%\n"
    }
   },
   "execution_count": null,
   "outputs": []
  },
  {
   "cell_type": "code",
   "source": [
    "embs_[0].shape"
   ],
   "metadata": {
    "execution": {
     "iopub.status.busy": "2022-06-29T23:49:55.220053Z",
     "iopub.execute_input": "2022-06-29T23:49:55.220831Z",
     "iopub.status.idle": "2022-06-29T23:49:55.227190Z",
     "shell.execute_reply.started": "2022-06-29T23:49:55.220787Z",
     "shell.execute_reply": "2022-06-29T23:49:55.226370Z"
    },
    "trusted": true,
    "pycharm": {
     "name": "#%%\n"
    }
   },
   "execution_count": null,
   "outputs": []
  },
  {
   "cell_type": "code",
   "source": [
    "emb_df = pd.DataFrame([embs_[i] for i in range(len(full_df))])\n",
    "fe_df = full_df.copy()\n",
    "for c in emb_df.columns:\n",
    "    fe_df[c] = emb_df[c]"
   ],
   "metadata": {
    "execution": {
     "iopub.status.busy": "2022-06-29T23:48:46.836146Z",
     "iopub.execute_input": "2022-06-29T23:48:46.836443Z",
     "iopub.status.idle": "2022-06-29T23:48:46.893294Z",
     "shell.execute_reply.started": "2022-06-29T23:48:46.836408Z",
     "shell.execute_reply": "2022-06-29T23:48:46.892324Z"
    },
    "trusted": true,
    "pycharm": {
     "name": "#%%\n"
    }
   },
   "execution_count": null,
   "outputs": []
  },
  {
   "cell_type": "code",
   "source": [
    "%%time\n",
    "n = 3\n",
    "\n",
    "pipeline = Pipeline([('scaling', StandardScaler()), ('umap', umap.UMAP(n_components=n, random_state=42))])\n",
    "song_embedding = pipeline.fit_transform(emb_df)\n",
    "umap_df = pd.DataFrame(data = song_embedding, columns = list(range(n)))\n",
    "umap_df['title'] = full_df['title']\n",
    "umap_df['artist'] = full_df['artist']"
   ],
   "metadata": {
    "pycharm": {
     "name": "#%%\n"
    }
   },
   "execution_count": null,
   "outputs": []
  },
  {
   "cell_type": "code",
   "source": [
    "umap_df.to_csv('umap_3_components_bert.csv', index=False)\n",
    "# umap_df = pd.read_csv('umap_3_components_bert.csv')"
   ],
   "metadata": {
    "pycharm": {
     "name": "#%%\n"
    }
   },
   "execution_count": null,
   "outputs": []
  },
  {
   "cell_type": "code",
   "source": [
    "plot_df = fe_df[fe_df['artist'].isin(my_artists)].reset_index(drop=True)\n",
    "emb_df_ = emb_df[fe_df['artist'].isin(my_artists)]"
   ],
   "metadata": {
    "pycharm": {
     "name": "#%%\n"
    }
   },
   "execution_count": null,
   "outputs": []
  },
  {
   "cell_type": "code",
   "source": [
    "umap_df_ = umap_df[fe_df['artist'].isin(my_artists)].reset_index(drop=True)\n",
    "umap_df_['title'] = plot_df['title']\n",
    "umap_df_['artist'] = plot_df['artist']\n",
    "umap_df_.columns = ['umap dimension 0','umap dimension 1','umap dimension 2','title','artist']\n",
    "print(umap_df_.shape)\n",
    "umap_df_.head()"
   ],
   "metadata": {
    "pycharm": {
     "name": "#%%\n"
    }
   },
   "execution_count": null,
   "outputs": []
  },
  {
   "cell_type": "code",
   "source": [
    "import plotly.express as px\n",
    "\n",
    "for x in [('umap dimension 0','umap dimension 1'),\n",
    "          ('umap dimension 0','umap dimension 2'),\n",
    "          ('umap dimension 1','umap dimension 2')]:\n",
    "    fig = px.scatter(umap_df_, \n",
    "                     x=x[0],\n",
    "                     y=x[1],\n",
    "                     hover_data=['artist','title'],\n",
    "                     color='artist',\n",
    "                     opacity=.8,\n",
    "                     template='simple_white')\\\n",
    "            .update_traces(marker=dict(size=15))\\\n",
    "            .update_layout(\n",
    "                title={\n",
    "                    'text': \"Song Lyric Embeddings\",\n",
    "                    'y':0.95,\n",
    "                    'x':0.19,\n",
    "                    'xanchor': 'center',\n",
    "                    'yanchor': 'top'})\n",
    "    fig.show()"
   ],
   "metadata": {
    "pycharm": {
     "name": "#%%\n"
    }
   },
   "execution_count": null,
   "outputs": []
  },
  {
   "cell_type": "code",
   "source": [
    "for x in [('umap dimension 0','umap dimension 1','umap dimension 2')]:   \n",
    "    fig = px.scatter_3d(umap_df_, \n",
    "                     x=x[0],\n",
    "                     y=x[1],\n",
    "                     z=x[2],\n",
    "                     hover_data=['artist', 'title'],\n",
    "                     color='artist',\n",
    "                     template='simple_white')\n",
    "    fig.show()"
   ],
   "metadata": {
    "pycharm": {
     "name": "#%%\n"
    }
   },
   "execution_count": null,
   "outputs": []
  }
 ]
}