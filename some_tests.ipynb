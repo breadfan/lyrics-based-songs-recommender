{
 "cells": [
  {
   "cell_type": "code",
   "execution_count": 1,
   "outputs": [],
   "source": [
    "import requests\n",
    "from bs4 import BeautifulSoup"
   ],
   "metadata": {
    "collapsed": false,
    "pycharm": {
     "name": "#%%\n"
    }
   }
  },
  {
   "cell_type": "code",
   "execution_count": 2,
   "outputs": [],
   "source": [
    "HEADERS = {\"User-Agent\": \"Mozilla/5.0 (Windows NT 10.0; Win64; x64)\"}"
   ],
   "metadata": {
    "collapsed": false,
    "pycharm": {
     "name": "#%%\n"
    }
   }
  },
  {
   "cell_type": "code",
   "execution_count": 3,
   "outputs": [],
   "source": [
    "SONG_LINK = input(\"Please enter song link: \")"
   ],
   "metadata": {
    "collapsed": false,
    "pycharm": {
     "name": "#%%\n"
    }
   }
  },
  {
   "cell_type": "code",
   "execution_count": 5,
   "outputs": [],
   "source": [
    "def get_soup(url: str) -> BeautifulSoup:\n",
    "    \"\"\"\n",
    "    Utility function which takes a url and returns a Soup object.\n",
    "    \"\"\"\n",
    "    response = requests.get(url, headers=HEADERS)\n",
    "    soup = BeautifulSoup(response.text, \"html.parser\")\n",
    "    return soup"
   ],
   "metadata": {
    "collapsed": false,
    "pycharm": {
     "name": "#%%\n"
    }
   }
  },
  {
   "cell_type": "code",
   "execution_count": null,
   "outputs": [],
   "source": [
    "requests.get()"
   ],
   "metadata": {
    "collapsed": false,
    "pycharm": {
     "name": "#%%\n"
    }
   }
  },
  {
   "cell_type": "code",
   "execution_count": null,
   "outputs": [],
   "source": [
    "soup = get_soup(SONG_LINK)"
   ],
   "metadata": {
    "collapsed": false,
    "pycharm": {
     "name": "#%%\n"
    }
   }
  },
  {
   "cell_type": "code",
   "execution_count": 6,
   "outputs": [
    {
     "name": "stdout",
     "output_type": "stream",
     "text": [
      "I will never bother you\n",
      "I will never promise to\n",
      "I will never follow you\n",
      "I will never bother you\n",
      "Never speak a word again\n",
      "I will crawl away for good\n",
      "I will move away from here\n",
      "You won′t be afraid of fear\n",
      "No thought was put into this\n",
      "I always knew it would come to this\n",
      "Things have never been so swell\n",
      "I have never failed to fail\n",
      "\n",
      "Pain\n",
      "Pain\n",
      "Pain\n",
      "\n",
      "You know you're right\n",
      "You know you′re right\n",
      "You know you're right\n",
      "I'm so warm and calm inside\n",
      "\n",
      "I no longer have to hide\n",
      "Let′s talk about someone else\n",
      "The steaming soup begins to melt\n",
      "Nothing really bothers her\n",
      "She just wants to love herself\n",
      "I will move away from here\n",
      "You won′t be afraid of fear\n",
      "No thought was put into this\n",
      "I always knew to come like this\n",
      "Things have never been so swell\n",
      "I have never failed to fail\n",
      "\n",
      "Pain\n",
      "Pain\n",
      "Pain\n",
      "Pain\n",
      "Pain\n",
      "\n",
      "You know you're right\n",
      "You know you′re right\n",
      "You know you're right\n",
      "You know you′re right\n",
      "You know you're right\n",
      "You know you′re right\n",
      "You know you're right\n",
      "You know you're right\n",
      "You know you′re right\n",
      "You know you′re right\n",
      "You know you're right\n",
      "You know you′re right\n",
      "You know your rights\n",
      "You know you're right\n",
      "\n",
      "You know your rights\n",
      "You know your rights\n",
      "You know your rights\n",
      "Pain\n"
     ]
    }
   ],
   "source": [
    "soup = get_soup(SONG_LINK)\n",
    "# find the lyrics data.\n",
    "cols = soup.findAll(class_=\"lyrics__content__ok\", text=True)\n",
    "if cols:\n",
    "    lyrics = \"\\n\".join(x.text for x in cols)\n",
    "elif data := soup.find(class_=\"lyrics__content__warning\", text=True):\n",
    "    lyrics = data.get_text()\n",
    "# finally print the lyrics.\n",
    "print(lyrics)"
   ],
   "metadata": {
    "collapsed": false,
    "pycharm": {
     "name": "#%%\n"
    }
   }
  },
  {
   "cell_type": "code",
   "execution_count": null,
   "outputs": [],
   "source": [],
   "metadata": {
    "collapsed": false,
    "pycharm": {
     "name": "#%%\n"
    }
   }
  },
  {
   "cell_type": "markdown",
   "source": [],
   "metadata": {
    "collapsed": false,
    "pycharm": {
     "name": "#%% md\n"
    }
   }
  },
  {
   "cell_type": "code",
   "execution_count": 1,
   "outputs": [],
   "source": [
    "# genuis lyrics\n",
    "import lyricsgenius\n",
    "from lyricsgenius import Genius"
   ],
   "metadata": {
    "collapsed": false,
    "pycharm": {
     "name": "#%%\n"
    }
   }
  },
  {
   "cell_type": "code",
   "execution_count": 2,
   "outputs": [],
   "source": [
    "token = 'mhMp4Y4SLVkfNObKbQiO6OlqKXypCgpDh384poxI2Ckvlgd3iwtX_6khMnhrWyRW'\n",
    "genius = Genius(token)\n",
    "genius.remove_section_headers = True"
   ],
   "metadata": {
    "collapsed": false,
    "pycharm": {
     "name": "#%%\n"
    }
   }
  },
  {
   "cell_type": "code",
   "execution_count": 5,
   "outputs": [
    {
     "name": "stdout",
     "output_type": "stream",
     "text": [
      "Searching for songs by Nirvana...\n",
      "\n",
      "Song 1: \"867-5309/Jenny\"\n",
      "Song 2: \"About a Girl\"\n",
      "\"About A Girl (5/26/1989 Demo)\" is not valid. Skipping.\n",
      "Song 3: \"About A Girl (Live at Pine Street Theatre)\"\n",
      "\n",
      "Reached user-specified song limit (3).\n",
      "Done. Found 3 songs.\n",
      "[Song(id, artist, ...), Song(id, artist, ...), Song(id, artist, ...)]\n"
     ]
    }
   ],
   "source": [
    "artist = genius.search_artist(\"Nirvana\", max_songs=3, sort=\"title\")\n",
    "print(artist.songs)"
   ],
   "metadata": {
    "collapsed": false,
    "pycharm": {
     "name": "#%%\n"
    }
   }
  },
  {
   "cell_type": "code",
   "execution_count": 6,
   "outputs": [
    {
     "name": "stdout",
     "output_type": "stream",
     "text": [
      "867-5309/Jenny Lyrics\n",
      "Jenny, Jenny, who can I turn to?\n",
      "You give me somethin' I can hold on to\n",
      "I saw your name and number on the wall\n",
      "Congratulations \n",
      "\n",
      "Jenny, I got your number\n",
      "I need to make you mine\n",
      "Jenny, don't change your number\n",
      "867-5309\n",
      "867-5309\n",
      "867-5309\n",
      "867-5309\n",
      "\n",
      "Jenny, Jenny, you're the girl for me\n",
      "Oh, you don't know me, but you make me so happy\n",
      "I tried to call you before, but I lost my nerve\n",
      "I tried my imagination, but I was disturbed\n",
      "\n",
      "Jenny, I got your number\n",
      "I need to make you mine\n",
      "Jenny, don't change your number\n",
      "\n",
      "867-5309\n",
      "867-5309\n",
      "867-5309\n",
      "867-5309\n",
      "\n",
      "I got it (I got it), I got it\n",
      "I got your number on the wall\n",
      "I got it (I got it), I got it\n",
      "For a good time, for a good time call\n",
      "\n",
      "Jenny, don't change your number\n",
      "I need to make you mine\n",
      "Jenny, I call your number\n",
      "\n",
      "867-5309\n",
      "867-5309\n",
      "867-5309\n",
      "867-5309\n",
      "\n",
      "Jenny, Jenny, who can I turn to?\n",
      "867-5309\n",
      "For the price of a dime, I can always turn to you\n",
      "867-5309\n",
      "\n",
      "867-5309\n",
      "867-5309\n",
      "867-5309\n",
      "867-5309\n",
      "5309\n",
      "867-5309 (5309)\n",
      "867-5309 (5309)\n",
      "867-5309Embed\n"
     ]
    }
   ],
   "source": [
    "print(artist.songs[0].lyrics)"
   ],
   "metadata": {
    "collapsed": false,
    "pycharm": {
     "name": "#%%\n"
    }
   }
  },
  {
   "cell_type": "code",
   "execution_count": 7,
   "outputs": [
    {
     "data": {
      "text/plain": "'Nirvana'"
     },
     "execution_count": 7,
     "metadata": {},
     "output_type": "execute_result"
    }
   ],
   "source": [
    "artist.name"
   ],
   "metadata": {
    "collapsed": false,
    "pycharm": {
     "name": "#%%\n"
    }
   }
  },
  {
   "cell_type": "code",
   "execution_count": 8,
   "outputs": [
    {
     "name": "stdout",
     "output_type": "stream",
     "text": [
      "Searching for \"You know you're right\" by Nirvana...\n",
      "Done.\n",
      "You Know You’re Right Lyrics\n",
      "I will never bother you\n",
      "I will never promise to\n",
      "I will never follow you\n",
      "I will never bother you\n",
      "Never speak a word again\n",
      "I will crawl away for good\n",
      "I will move away from here\n",
      "You won't be afraid of fear\n",
      "No thought was put into this\n",
      "And always knew it would come to this\n",
      "Things have never been so swell\n",
      "I have never failed to fail\n",
      "Hey, hey, hey\n",
      "You know you're right\n",
      "You know you're right, you know you're right\n",
      "\n",
      "I'm so warm and calm inside\n",
      "I no longer have to hide\n",
      "Let's talk about someone else\n",
      "Steaming soup against her mouth\n",
      "Nothing really bothers her\n",
      "She just wants to love himself\n",
      "I will move away from here\n",
      "You won't be afraid of fear\n",
      "No thought was put into this\n",
      "Always knew it'd come to this\n",
      "Things have never been so swell\n",
      "I have never failed to fail\n",
      "\n",
      "Hey, hey, hey, hey, hey\n",
      "You know you're right, you know you're right\n",
      "You know you're right, you know you're right\n",
      "You know you're right, you know you're right\n",
      "You know you're right, you know you're right\n",
      "You know you're right, you know you're right\n",
      "You know you're right, you know you're right\n",
      "You know you're right, you know you're right\n",
      "You know you're right, you know you're right\n",
      "You know you're right, you know you're right\n",
      "You know you're right, you know you're right49Embed\n"
     ]
    }
   ],
   "source": [
    "lyric = genius.search_song(\"You know you're right\", artist.name).lyrics\n",
    "print(lyric)"
   ],
   "metadata": {
    "collapsed": false,
    "pycharm": {
     "name": "#%%\n"
    }
   }
  }
 ],
 "metadata": {
  "kernelspec": {
   "display_name": "Python 3",
   "language": "python",
   "name": "python3"
  },
  "language_info": {
   "codemirror_mode": {
    "name": "ipython",
    "version": 2
   },
   "file_extension": ".py",
   "mimetype": "text/x-python",
   "name": "python",
   "nbconvert_exporter": "python",
   "pygments_lexer": "ipython2",
   "version": "2.7.6"
  }
 },
 "nbformat": 4,
 "nbformat_minor": 0
}